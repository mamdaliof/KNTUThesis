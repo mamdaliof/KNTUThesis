{
 "cells": [
  {
   "cell_type": "code",
   "execution_count": 1,
   "metadata": {},
   "outputs": [
    {
     "name": "stdout",
     "output_type": "stream",
     "text": [
      "Max width: 664, Max height: 758\n",
      "All images have been resized.\n"
     ]
    }
   ],
   "source": [
    "import os\n",
    "from PIL import Image\n",
    "\n",
    "def resize_images_to_max_size(directory):\n",
    "    # Get a list of all image files in the directory\n",
    "    image_files = [f for f in os.listdir(directory) if os.path.isfile(os.path.join(directory, f))]\n",
    "\n",
    "    # Variables to store the maximum width and height\n",
    "    max_width = 0\n",
    "    max_height = 0\n",
    "\n",
    "    # First pass to find the maximum dimensions\n",
    "    for file in image_files:\n",
    "        with Image.open(os.path.join(directory, file)) as img:\n",
    "            width, height = img.size\n",
    "            if width > max_width:\n",
    "                max_width = width\n",
    "            if height > max_height:\n",
    "                max_height = height\n",
    "\n",
    "    print(f\"Max width: {max_width}, Max height: {max_height}\")\n",
    "\n",
    "    # Second pass to resize images\n",
    "    for file in image_files:\n",
    "        with Image.open(os.path.join(directory, file)) as img:\n",
    "            resized_img = img.resize((max_width, max_height))\n",
    "            resized_img.save(os.path.join(directory, file))\n",
    "\n",
    "    print(\"All images have been resized.\")\n",
    "\n",
    "# Example usage:\n",
    "directory_path = 'D:\\\\desk top folders\\ML\\Brain\\Thesis\\KNTUThesis\\Images\\Chapter1'\n",
    "resize_images_to_max_size(directory_path)\n"
   ]
  }
 ],
 "metadata": {
  "kernelspec": {
   "display_name": "ML",
   "language": "python",
   "name": "python3"
  },
  "language_info": {
   "codemirror_mode": {
    "name": "ipython",
    "version": 3
   },
   "file_extension": ".py",
   "mimetype": "text/x-python",
   "name": "python",
   "nbconvert_exporter": "python",
   "pygments_lexer": "ipython3",
   "version": "3.9.16"
  }
 },
 "nbformat": 4,
 "nbformat_minor": 2
}
